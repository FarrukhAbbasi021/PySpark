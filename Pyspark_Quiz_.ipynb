{
  "nbformat": 4,
  "nbformat_minor": 0,
  "metadata": {
    "colab": {
      "provenance": []
    },
    "kernelspec": {
      "name": "python3",
      "display_name": "Python 3"
    },
    "language_info": {
      "name": "python"
    }
  },
  "cells": [
    {
      "cell_type": "markdown",
      "source": [
        "# Task#1"
      ],
      "metadata": {
        "id": "vc49-Ae7PvwH"
      }
    },
    {
      "cell_type": "markdown",
      "source": [
        "## Installing PySpark\n"
      ],
      "metadata": {
        "id": "GlEYMwPB8GUF"
      }
    },
    {
      "cell_type": "code",
      "execution_count": null,
      "metadata": {
        "colab": {
          "base_uri": "https://localhost:8080/"
        },
        "id": "3aloNWn07orx",
        "outputId": "4cca27b7-faf4-4bef-da16-5a42dc329f53"
      },
      "outputs": [
        {
          "output_type": "stream",
          "name": "stdout",
          "text": [
            "Requirement already satisfied: pyspark in /usr/local/lib/python3.10/dist-packages (3.5.0)\n",
            "Requirement already satisfied: py4j==0.10.9.7 in /usr/local/lib/python3.10/dist-packages (from pyspark) (0.10.9.7)\n"
          ]
        }
      ],
      "source": [
        "pip install pyspark"
      ]
    },
    {
      "cell_type": "markdown",
      "source": [
        "## Importing Libraries"
      ],
      "metadata": {
        "id": "n6A0i7KT8nqX"
      }
    },
    {
      "cell_type": "code",
      "source": [
        "from pyspark.sql import SparkSession\n",
        "from pyspark.ml.evaluation import RegressionEvaluator\n",
        "from pyspark.ml.regression import LinearRegression\n",
        "from pyspark.ml.recommendation import ALS\n",
        "from pyspark.sql import Row\n",
        "from pyspark.sql.functions import col"
      ],
      "metadata": {
        "id": "mrYMN9fi8VtT"
      },
      "execution_count": null,
      "outputs": []
    },
    {
      "cell_type": "code",
      "source": [
        "spark = SparkSession.builder.appName(\"RecommenderSystem\").getOrCreate()"
      ],
      "metadata": {
        "id": "R0_sEIrg9fGH"
      },
      "execution_count": null,
      "outputs": []
    },
    {
      "cell_type": "markdown",
      "source": [
        "## Load and Preprocess Data"
      ],
      "metadata": {
        "id": "dulysY1B-7Tt"
      }
    },
    {
      "cell_type": "code",
      "source": [
        "movies_df = spark.read.csv('movies.csv',header=True,inferSchema=True)\n",
        "movies_df.show()"
      ],
      "metadata": {
        "colab": {
          "base_uri": "https://localhost:8080/"
        },
        "id": "p1UAdoWN-02Z",
        "outputId": "a037616b-7434-40b7-eac6-34faf3589091"
      },
      "execution_count": null,
      "outputs": [
        {
          "output_type": "stream",
          "name": "stdout",
          "text": [
            "+-------+--------------------+--------------------+\n",
            "|movieId|               title|              genres|\n",
            "+-------+--------------------+--------------------+\n",
            "|      1|    Toy Story (1995)|Adventure|Animati...|\n",
            "|      2|      Jumanji (1995)|Adventure|Childre...|\n",
            "|      3|Grumpier Old Men ...|      Comedy|Romance|\n",
            "|      4|Waiting to Exhale...|Comedy|Drama|Romance|\n",
            "|      5|Father of the Bri...|              Comedy|\n",
            "|      6|         Heat (1995)|Action|Crime|Thri...|\n",
            "|      7|      Sabrina (1995)|      Comedy|Romance|\n",
            "|      8| Tom and Huck (1995)|  Adventure|Children|\n",
            "|      9| Sudden Death (1995)|              Action|\n",
            "|     10|    GoldenEye (1995)|Action|Adventure|...|\n",
            "|     11|American Presiden...|Comedy|Drama|Romance|\n",
            "|     12|Dracula: Dead and...|       Comedy|Horror|\n",
            "|     13|        Balto (1995)|Adventure|Animati...|\n",
            "|     14|        Nixon (1995)|               Drama|\n",
            "|     15|Cutthroat Island ...|Action|Adventure|...|\n",
            "|     16|       Casino (1995)|         Crime|Drama|\n",
            "|     17|Sense and Sensibi...|       Drama|Romance|\n",
            "|     18|   Four Rooms (1995)|              Comedy|\n",
            "|     19|Ace Ventura: When...|              Comedy|\n",
            "|     20|  Money Train (1995)|Action|Comedy|Cri...|\n",
            "+-------+--------------------+--------------------+\n",
            "only showing top 20 rows\n",
            "\n"
          ]
        }
      ]
    },
    {
      "cell_type": "code",
      "source": [
        "ratings_df = spark.read.csv('ratings.csv',header=True,inferSchema=True)\n",
        "ratings_df.show()"
      ],
      "metadata": {
        "colab": {
          "base_uri": "https://localhost:8080/"
        },
        "id": "1de4cUDpBvfM",
        "outputId": "265e9d6e-de7d-413c-ff68-acbc69536f34"
      },
      "execution_count": null,
      "outputs": [
        {
          "output_type": "stream",
          "name": "stdout",
          "text": [
            "+------+-------+------+----------+\n",
            "|userId|movieId|rating| timestamp|\n",
            "+------+-------+------+----------+\n",
            "|     1|    296|   5.0|1147880044|\n",
            "|     1|    306|   3.5|1147868817|\n",
            "|     1|    307|   5.0|1147868828|\n",
            "|     1|    665|   5.0|1147878820|\n",
            "|     1|    899|   3.5|1147868510|\n",
            "|     1|   1088|   4.0|1147868495|\n",
            "|     1|   1175|   3.5|1147868826|\n",
            "|     1|   1217|   3.5|1147878326|\n",
            "|     1|   1237|   5.0|1147868839|\n",
            "|     1|   1250|   4.0|1147868414|\n",
            "|     1|   1260|   3.5|1147877857|\n",
            "|     1|   1653|   4.0|1147868097|\n",
            "|     1|   2011|   2.5|1147868079|\n",
            "|     1|   2012|   2.5|1147868068|\n",
            "|     1|   2068|   2.5|1147869044|\n",
            "|     1|   2161|   3.5|1147868609|\n",
            "|     1|   2351|   4.5|1147877957|\n",
            "|     1|   2573|   4.0|1147878923|\n",
            "|     1|   2632|   5.0|1147878248|\n",
            "|     1|   2692|   5.0|1147869100|\n",
            "+------+-------+------+----------+\n",
            "only showing top 20 rows\n",
            "\n"
          ]
        }
      ]
    },
    {
      "cell_type": "markdown",
      "source": [
        "## Combining Movies&Ratings"
      ],
      "metadata": {
        "id": "Z-DXRMxrOSi7"
      }
    },
    {
      "cell_type": "code",
      "source": [
        "Combined_df = ratings_df.join(movies_df, \"movieId\",\"inner\")\n",
        "Combined_df.show()"
      ],
      "metadata": {
        "colab": {
          "base_uri": "https://localhost:8080/"
        },
        "id": "oV-h_thvEUER",
        "outputId": "ad3b5954-3893-4ff0-d48d-ed833074e8b5"
      },
      "execution_count": null,
      "outputs": [
        {
          "output_type": "stream",
          "name": "stdout",
          "text": [
            "+-------+------+------+----------+--------------------+--------------------+\n",
            "|movieId|userId|rating| timestamp|               title|              genres|\n",
            "+-------+------+------+----------+--------------------+--------------------+\n",
            "|    296|     1|   5.0|1147880044| Pulp Fiction (1994)|Comedy|Crime|Dram...|\n",
            "|    306|     1|   3.5|1147868817|Three Colors: Red...|               Drama|\n",
            "|    307|     1|   5.0|1147868828|Three Colors: Blu...|               Drama|\n",
            "|    665|     1|   5.0|1147878820|  Underground (1995)|    Comedy|Drama|War|\n",
            "|    899|     1|   3.5|1147868510|Singin' in the Ra...|Comedy|Musical|Ro...|\n",
            "|   1088|     1|   4.0|1147868495|Dirty Dancing (1987)|Drama|Musical|Rom...|\n",
            "|   1175|     1|   3.5|1147868826| Delicatessen (1991)|Comedy|Drama|Romance|\n",
            "|   1217|     1|   3.5|1147878326|          Ran (1985)|           Drama|War|\n",
            "|   1237|     1|   5.0|1147868839|Seventh Seal, The...|               Drama|\n",
            "|   1250|     1|   4.0|1147868414|Bridge on the Riv...| Adventure|Drama|War|\n",
            "|   1260|     1|   3.5|1147877857|            M (1931)|Crime|Film-Noir|T...|\n",
            "|   1653|     1|   4.0|1147868097|      Gattaca (1997)|Drama|Sci-Fi|Thri...|\n",
            "|   2011|     1|   2.5|1147868079|Back to the Futur...|Adventure|Comedy|...|\n",
            "|   2012|     1|   2.5|1147868068|Back to the Futur...|Adventure|Comedy|...|\n",
            "|   2068|     1|   2.5|1147869044|Fanny and Alexand...|Drama|Fantasy|Mys...|\n",
            "|   2161|     1|   3.5|1147868609|NeverEnding Story...|Adventure|Childre...|\n",
            "|   2351|     1|   4.5|1147877957|Nights of Cabiria...|               Drama|\n",
            "|   2573|     1|   4.0|1147878923|        Tango (1998)|       Drama|Musical|\n",
            "|   2632|     1|   5.0|1147878248|Saragossa Manuscr...|Adventure|Drama|M...|\n",
            "|   2692|     1|   5.0|1147869100|Run Lola Run (Lol...|        Action|Crime|\n",
            "+-------+------+------+----------+--------------------+--------------------+\n",
            "only showing top 20 rows\n",
            "\n"
          ]
        }
      ]
    },
    {
      "cell_type": "markdown",
      "source": [
        "## Droping Ireralvant Columns"
      ],
      "metadata": {
        "id": "KI2WDiyCOmAg"
      }
    },
    {
      "cell_type": "code",
      "source": [
        "Combined_data = Combined_df.drop('timestamp', 'genres')\n",
        "Combined_data.show()"
      ],
      "metadata": {
        "colab": {
          "base_uri": "https://localhost:8080/"
        },
        "id": "Rft-SII1Fbaq",
        "outputId": "a520bd0e-461f-4e2b-f119-08b9fe715eb6"
      },
      "execution_count": null,
      "outputs": [
        {
          "output_type": "stream",
          "name": "stdout",
          "text": [
            "+-------+------+------+--------------------+\n",
            "|movieId|userId|rating|               title|\n",
            "+-------+------+------+--------------------+\n",
            "|    296|     1|   5.0| Pulp Fiction (1994)|\n",
            "|    306|     1|   3.5|Three Colors: Red...|\n",
            "|    307|     1|   5.0|Three Colors: Blu...|\n",
            "|    665|     1|   5.0|  Underground (1995)|\n",
            "|    899|     1|   3.5|Singin' in the Ra...|\n",
            "|   1088|     1|   4.0|Dirty Dancing (1987)|\n",
            "|   1175|     1|   3.5| Delicatessen (1991)|\n",
            "|   1217|     1|   3.5|          Ran (1985)|\n",
            "|   1237|     1|   5.0|Seventh Seal, The...|\n",
            "|   1250|     1|   4.0|Bridge on the Riv...|\n",
            "|   1260|     1|   3.5|            M (1931)|\n",
            "|   1653|     1|   4.0|      Gattaca (1997)|\n",
            "|   2011|     1|   2.5|Back to the Futur...|\n",
            "|   2012|     1|   2.5|Back to the Futur...|\n",
            "|   2068|     1|   2.5|Fanny and Alexand...|\n",
            "|   2161|     1|   3.5|NeverEnding Story...|\n",
            "|   2351|     1|   4.5|Nights of Cabiria...|\n",
            "|   2573|     1|   4.0|        Tango (1998)|\n",
            "|   2632|     1|   5.0|Saragossa Manuscr...|\n",
            "|   2692|     1|   5.0|Run Lola Run (Lol...|\n",
            "+-------+------+------+--------------------+\n",
            "only showing top 20 rows\n",
            "\n"
          ]
        }
      ]
    },
    {
      "cell_type": "code",
      "source": [
        "# Split the data into training and testing sets\n",
        "(training, test) = Combined_data.randomSplit([0.8, 0.2])"
      ],
      "metadata": {
        "id": "-Zv87jLoM3QY"
      },
      "execution_count": null,
      "outputs": []
    },
    {
      "cell_type": "markdown",
      "source": [
        "## Biulding Model"
      ],
      "metadata": {
        "id": "lKKTn-cmO2wM"
      }
    },
    {
      "cell_type": "code",
      "source": [
        "# Build the ALS model\n",
        "als = ALS(maxIter=5, regParam=0.01, userCol=\"userId\", itemCol=\"movieId\", ratingCol=\"rating\")\n",
        "model = als.fit(training)"
      ],
      "metadata": {
        "id": "1zJE-IoYNk77"
      },
      "execution_count": null,
      "outputs": []
    },
    {
      "cell_type": "code",
      "source": [
        "predictions = model.transform(test)"
      ],
      "metadata": {
        "id": "bAlTq_WCVBjO"
      },
      "execution_count": null,
      "outputs": []
    },
    {
      "cell_type": "markdown",
      "source": [
        "## Evaluate the model using RMSE (Root Mean Squared Error)"
      ],
      "metadata": {
        "id": "j_UCyvoNPCDK"
      }
    },
    {
      "cell_type": "code",
      "source": [
        "evaluator = RegressionEvaluator(metricName=\"rmse\", labelCol=\"rating\", predictionCol=\"prediction\")\n",
        "rmse = evaluator.evaluate(predictions)\n",
        "print(f\"Root Mean Squared Error (RMSE): {rmse}\")\n"
      ],
      "metadata": {
        "colab": {
          "base_uri": "https://localhost:8080/"
        },
        "id": "7gi5HjUNVDKL",
        "outputId": "5354d099-d4a2-443f-a40d-e730461094f0"
      },
      "execution_count": null,
      "outputs": [
        {
          "output_type": "stream",
          "name": "stdout",
          "text": [
            "Root Mean Squared Error (RMSE): nan\n"
          ]
        }
      ]
    },
    {
      "cell_type": "markdown",
      "source": [
        "## Results"
      ],
      "metadata": {
        "id": "9H52xpG5PQyZ"
      }
    },
    {
      "cell_type": "code",
      "source": [
        "# Generate top N movie recommendations for each user\n",
        "userRecs = model.recommendForAllUsers(5)\n",
        "userRecs.show()"
      ],
      "metadata": {
        "id": "fU53SGW2UTDs",
        "colab": {
          "base_uri": "https://localhost:8080/"
        },
        "outputId": "7b347a0e-2852-4fdd-a92c-15f82f5c7bc0"
      },
      "execution_count": null,
      "outputs": [
        {
          "output_type": "stream",
          "name": "stdout",
          "text": [
            "+------+--------------------+\n",
            "|userId|     recommendations|\n",
            "+------+--------------------+\n",
            "|     1|[{151410, 15.8923...|\n",
            "|     3|[{151410, 14.7058...|\n",
            "|     5|[{151410, 15.8792...|\n",
            "|     6|[{151410, 17.2849...|\n",
            "|     9|[{141546, 17.4446...|\n",
            "|    12|[{151410, 15.1439...|\n",
            "|    13|[{151410, 16.0737...|\n",
            "|    15|[{151410, 16.2296...|\n",
            "|    16|[{151410, 17.0141...|\n",
            "|    17|[{194232, 14.5398...|\n",
            "|    19|[{151410, 14.3613...|\n",
            "|    20|[{151410, 16.3356...|\n",
            "|    22|[{141546, 20.9663...|\n",
            "|    26|[{151410, 12.7887...|\n",
            "|    27|[{134499, 18.4799...|\n",
            "|    28|[{151410, 17.6476...|\n",
            "|    31|[{151410, 10.3232...|\n",
            "|    34|[{151410, 12.8452...|\n",
            "|    35|[{151410, 15.2325...|\n",
            "|    37|[{151410, 15.2431...|\n",
            "+------+--------------------+\n",
            "only showing top 20 rows\n",
            "\n"
          ]
        }
      ]
    },
    {
      "cell_type": "code",
      "source": [
        "# Generate top N user recommendations for each movie\n",
        "movieRecs = model.recommendForAllItems(10)  # You can customize the number of recommendations (e.g., 10)\n",
        "movieRecs.show()\n"
      ],
      "metadata": {
        "id": "5XbPynNmVmUc",
        "colab": {
          "base_uri": "https://localhost:8080/"
        },
        "outputId": "3d727022-e6a1-4ee3-959b-a25f5d6d16ac"
      },
      "execution_count": null,
      "outputs": [
        {
          "output_type": "stream",
          "name": "stdout",
          "text": [
            "+-------+--------------------+\n",
            "|movieId|     recommendations|\n",
            "+-------+--------------------+\n",
            "|      1|[{58248, 6.731963...|\n",
            "|      3|[{63627, 6.497902...|\n",
            "|      5|[{48142, 5.216825...|\n",
            "|      6|[{35967, 6.296840...|\n",
            "|      9|[{54272, 5.407299...|\n",
            "|     12|[{32039, 6.814162...|\n",
            "|     13|[{44706, 6.572505...|\n",
            "|     15|[{70377, 6.668667...|\n",
            "|     16|[{66514, 5.610940...|\n",
            "|     17|[{58248, 6.853069...|\n",
            "|     19|[{48142, 7.879942...|\n",
            "|     20|[{11711, 5.678684...|\n",
            "|     22|[{29128, 5.983080...|\n",
            "|     26|[{67918, 6.117408...|\n",
            "|     27|[{66461, 7.263832...|\n",
            "|     28|[{47404, 7.094831...|\n",
            "|     31|[{27163, 5.564129...|\n",
            "|     34|[{58248, 7.657267...|\n",
            "|     35|[{27666, 7.617774...|\n",
            "|     37|[{71086, 9.581475...|\n",
            "+-------+--------------------+\n",
            "only showing top 20 rows\n",
            "\n"
          ]
        }
      ]
    },
    {
      "cell_type": "code",
      "source": [
        "# Close the Spark session\n",
        "spark.stop()"
      ],
      "metadata": {
        "id": "nN8RWs4IJwki"
      },
      "execution_count": null,
      "outputs": []
    },
    {
      "cell_type": "markdown",
      "source": [
        "# Task#2"
      ],
      "metadata": {
        "id": "243Tk2vHPakr"
      }
    },
    {
      "cell_type": "markdown",
      "source": [
        "## Importing Libraries\n",
        "\n"
      ],
      "metadata": {
        "id": "lAxUpcju-kkB"
      }
    },
    {
      "cell_type": "code",
      "source": [
        "from pyspark.sql import SparkSession\n",
        "from pyspark.ml.feature import VectorAssembler\n",
        "from pyspark.ml.classification import RandomForestClassifier\n",
        "from pyspark.ml.evaluation import BinaryClassificationEvaluator\n",
        "from pyspark.ml import Pipeline\n",
        "from pyspark.sql.functions import col\n",
        "from pyspark.sql.types import StringType\n",
        "from pyspark.ml.clustering import KMeans\n",
        "from pyspark.ml.regression import LinearRegression, GBTRegressor\n",
        "from pyspark.ml.classification import DecisionTreeClassifier\n",
        "from pyspark.ml.classification import NaiveBayes\n",
        "from pyspark.ml.classification import GBTClassifier\n",
        "from pyspark.ml.classification import LogisticRegression\n",
        "from pyspark.ml.classification import LinearSVC\n",
        "from pyspark.ml.feature import PCA\n",
        "from pyspark.ml.regression import IsotonicRegression\n",
        "from pyspark.ml.evaluation import RegressionEvaluator\n",
        "from pyspark.ml.tuning import ParamGridBuilder, CrossValidator\n",
        "import matplotlib.pyplot as plt\n",
        "import seaborn as sns\n",
        "from pyspark.ml.classification import LinearSVC\n",
        "from pyspark.ml.evaluation import BinaryClassificationEvaluator\n"
      ],
      "metadata": {
        "id": "ojZ-kPU_Pfk_"
      },
      "execution_count": null,
      "outputs": []
    },
    {
      "cell_type": "code",
      "source": [
        "spark = SparkSession.builder.appName(\"Heart_diseases_detection\").getOrCreate()"
      ],
      "metadata": {
        "id": "sJSK24PO-w9E"
      },
      "execution_count": null,
      "outputs": []
    },
    {
      "cell_type": "markdown",
      "source": [
        "## Load and Preprocess Data"
      ],
      "metadata": {
        "id": "2V-w2FTJ_HMM"
      }
    },
    {
      "cell_type": "code",
      "source": [
        "heart_df = spark.read.csv('heart.csv',header=True,inferSchema=True)\n",
        "heart_df.show()"
      ],
      "metadata": {
        "colab": {
          "base_uri": "https://localhost:8080/"
        },
        "id": "dX_bl17O_DEj",
        "outputId": "1eb0aa84-9ec6-41d5-dd7b-4135972f00ab"
      },
      "execution_count": null,
      "outputs": [
        {
          "output_type": "stream",
          "name": "stdout",
          "text": [
            "+---+---+-------------+---------+-----------+---------+----------+-----+--------------+-------+--------+------------+\n",
            "|Age|Sex|ChestPainType|RestingBP|Cholesterol|FastingBS|RestingECG|MaxHR|ExerciseAngina|Oldpeak|ST_Slope|HeartDisease|\n",
            "+---+---+-------------+---------+-----------+---------+----------+-----+--------------+-------+--------+------------+\n",
            "| 40|  M|          ATA|      140|        289|        0|    Normal|  172|             N|    0.0|      Up|           0|\n",
            "| 49|  F|          NAP|      160|        180|        0|    Normal|  156|             N|    1.0|    Flat|           1|\n",
            "| 37|  M|          ATA|      130|        283|        0|        ST|   98|             N|    0.0|      Up|           0|\n",
            "| 48|  F|          ASY|      138|        214|        0|    Normal|  108|             Y|    1.5|    Flat|           1|\n",
            "| 54|  M|          NAP|      150|        195|        0|    Normal|  122|             N|    0.0|      Up|           0|\n",
            "| 39|  M|          NAP|      120|        339|        0|    Normal|  170|             N|    0.0|      Up|           0|\n",
            "| 45|  F|          ATA|      130|        237|        0|    Normal|  170|             N|    0.0|      Up|           0|\n",
            "| 54|  M|          ATA|      110|        208|        0|    Normal|  142|             N|    0.0|      Up|           0|\n",
            "| 37|  M|          ASY|      140|        207|        0|    Normal|  130|             Y|    1.5|    Flat|           1|\n",
            "| 48|  F|          ATA|      120|        284|        0|    Normal|  120|             N|    0.0|      Up|           0|\n",
            "| 37|  F|          NAP|      130|        211|        0|    Normal|  142|             N|    0.0|      Up|           0|\n",
            "| 58|  M|          ATA|      136|        164|        0|        ST|   99|             Y|    2.0|    Flat|           1|\n",
            "| 39|  M|          ATA|      120|        204|        0|    Normal|  145|             N|    0.0|      Up|           0|\n",
            "| 49|  M|          ASY|      140|        234|        0|    Normal|  140|             Y|    1.0|    Flat|           1|\n",
            "| 42|  F|          NAP|      115|        211|        0|        ST|  137|             N|    0.0|      Up|           0|\n",
            "| 54|  F|          ATA|      120|        273|        0|    Normal|  150|             N|    1.5|    Flat|           0|\n",
            "| 38|  M|          ASY|      110|        196|        0|    Normal|  166|             N|    0.0|    Flat|           1|\n",
            "| 43|  F|          ATA|      120|        201|        0|    Normal|  165|             N|    0.0|      Up|           0|\n",
            "| 60|  M|          ASY|      100|        248|        0|    Normal|  125|             N|    1.0|    Flat|           1|\n",
            "| 36|  M|          ATA|      120|        267|        0|    Normal|  160|             N|    3.0|    Flat|           1|\n",
            "+---+---+-------------+---------+-----------+---------+----------+-----+--------------+-------+--------+------------+\n",
            "only showing top 20 rows\n",
            "\n"
          ]
        }
      ]
    },
    {
      "cell_type": "code",
      "source": [
        "# Display the schema of the dataset\n",
        "heart_df.printSchema()"
      ],
      "metadata": {
        "colab": {
          "base_uri": "https://localhost:8080/"
        },
        "id": "EP1RDkYjAGTA",
        "outputId": "53db62c1-8132-4578-e933-85d052504703"
      },
      "execution_count": null,
      "outputs": [
        {
          "output_type": "stream",
          "name": "stdout",
          "text": [
            "root\n",
            " |-- Age: integer (nullable = true)\n",
            " |-- Sex: string (nullable = true)\n",
            " |-- ChestPainType: string (nullable = true)\n",
            " |-- RestingBP: integer (nullable = true)\n",
            " |-- Cholesterol: integer (nullable = true)\n",
            " |-- FastingBS: integer (nullable = true)\n",
            " |-- RestingECG: string (nullable = true)\n",
            " |-- MaxHR: integer (nullable = true)\n",
            " |-- ExerciseAngina: string (nullable = true)\n",
            " |-- Oldpeak: double (nullable = true)\n",
            " |-- ST_Slope: string (nullable = true)\n",
            " |-- HeartDisease: integer (nullable = true)\n",
            "\n"
          ]
        }
      ]
    },
    {
      "cell_type": "code",
      "source": [
        "# Get the number of rows and columns in the DataFrame\n",
        "rows = heart_df.count()\n",
        "cols = len(heart_df.columns)\n",
        "print(f\"There are {rows} rows and {cols} columns in the dataset\")\n"
      ],
      "metadata": {
        "colab": {
          "base_uri": "https://localhost:8080/"
        },
        "id": "5LRHd89hC2fd",
        "outputId": "4bf893f6-13a3-4630-de6f-443fafbdef91"
      },
      "execution_count": null,
      "outputs": [
        {
          "output_type": "stream",
          "name": "stdout",
          "text": [
            "There are 918 rows and 12 columns in the dataset\n"
          ]
        }
      ]
    },
    {
      "cell_type": "code",
      "source": [
        "duplicated_count = heart_df.groupBy(heart_df.columns).count().filter(col(\"count\") > 1).count()\n",
        "\n",
        "print(f\"There are {duplicated_count} columns in the dataset with duplicates.\")"
      ],
      "metadata": {
        "colab": {
          "base_uri": "https://localhost:8080/"
        },
        "id": "St-odYcrDC4G",
        "outputId": "bb05f875-5203-435b-cf55-7b8f48d02db6"
      },
      "execution_count": null,
      "outputs": [
        {
          "output_type": "stream",
          "name": "stdout",
          "text": [
            "There are 0 columns in the dataset with duplicates.\n"
          ]
        }
      ]
    },
    {
      "cell_type": "markdown",
      "source": [
        "## Getting Categorical&Numerical Columns"
      ],
      "metadata": {
        "id": "ittBaP3_MOM1"
      }
    },
    {
      "cell_type": "code",
      "source": [
        "catcol = []\n",
        "numcol = []\n",
        "\n",
        "# Iterate through the columns of the DataFrame\n",
        "for col_name in heart_df.columns:\n",
        "    # Check the data type of the column\n",
        "    if isinstance(heart_df.schema[col_name].dataType, StringType):\n",
        "        # If the data type is StringType, add it to the categorical column list\n",
        "        catcol.append(col_name)\n",
        "    else:\n",
        "        # Otherwise, add it to the numerical column list\n",
        "        numcol.append(col_name)\n",
        "\n",
        "# Display the categorical and numerical columns\n",
        "print(\"Categorical Columns:\", catcol)\n",
        "print(\"Numerical Columns:\", numcol)\n"
      ],
      "metadata": {
        "colab": {
          "base_uri": "https://localhost:8080/"
        },
        "id": "3ckm_hZuE9MN",
        "outputId": "5667bb05-d69a-4f71-9724-16734ec5d0db"
      },
      "execution_count": null,
      "outputs": [
        {
          "output_type": "stream",
          "name": "stdout",
          "text": [
            "Categorical Columns: ['Sex', 'ChestPainType', 'RestingECG', 'ExerciseAngina', 'ST_Slope']\n",
            "Numerical Columns: ['Age', 'RestingBP', 'Cholesterol', 'FastingBS', 'MaxHR', 'Oldpeak', 'HeartDisease']\n"
          ]
        }
      ]
    },
    {
      "cell_type": "markdown",
      "source": [
        "## Converting Categoricla to Numerical"
      ],
      "metadata": {
        "id": "lGuxbdSjMqEW"
      }
    },
    {
      "cell_type": "code",
      "source": [
        "from pyspark.ml.feature import StringIndexer\n",
        "\n",
        "indexers = [StringIndexer(inputCol=column, outputCol=column+\"_index\").fit(heart_df) for column in [\"Sex\", \"ChestPainType\", \"RestingECG\", \"ExerciseAngina\", \"ST_Slope\"]]\n",
        "pipeline = Pipeline(stages=indexers)\n",
        "data = pipeline.fit(heart_df).transform(heart_df)\n"
      ],
      "metadata": {
        "id": "TqYx2x3rGDxA"
      },
      "execution_count": null,
      "outputs": []
    },
    {
      "cell_type": "markdown",
      "source": [
        "## Feature Extraction"
      ],
      "metadata": {
        "id": "8Pt_El41NO84"
      }
    },
    {
      "cell_type": "code",
      "source": [
        "from pyspark.ml.feature import VectorAssembler, StringIndexer\n",
        "\n",
        "# Apply StringIndexer to DataFrame\n",
        "indexed_data = heart_df\n",
        "for indexer in indexers:\n",
        "    indexed_data = indexer.transform(indexed_data)\n",
        "\n",
        "# Create a feature vector\n",
        "feature_columns = [\"Age\", \"RestingBP\", \"Cholesterol\", \"FastingBS\", \"MaxHR\", \"Oldpeak\", \"Sex_index\", \"ChestPainType_index\", \"RestingECG_index\", \"ExerciseAngina_index\", \"ST_Slope_index\"]\n",
        "assembler = VectorAssembler(inputCols=feature_columns, outputCol=\"features\")\n",
        "data = assembler.transform(indexed_data)"
      ],
      "metadata": {
        "id": "IaiSR4OcKWjl"
      },
      "execution_count": null,
      "outputs": []
    },
    {
      "cell_type": "markdown",
      "source": [
        "## Spliting Dataset into training & testing"
      ],
      "metadata": {
        "id": "CaXv5O8MNWq3"
      }
    },
    {
      "cell_type": "code",
      "source": [
        "(trainingData, testData) = data.randomSplit([0.8, 0.2])"
      ],
      "metadata": {
        "id": "pi00aRCGHAJA"
      },
      "execution_count": null,
      "outputs": []
    },
    {
      "cell_type": "markdown",
      "source": [
        "## Model Training"
      ],
      "metadata": {
        "id": "lds4K8cmOIVW"
      }
    },
    {
      "cell_type": "markdown",
      "source": [
        "## Using Random Forest Classifier"
      ],
      "metadata": {
        "id": "NAyl6_ENNoF9"
      }
    },
    {
      "cell_type": "code",
      "source": [
        "rf = RandomForestClassifier(labelCol=\"HeartDisease\", featuresCol=\"features\", numTrees=10)\n",
        "model = rf.fit(trainingData)"
      ],
      "metadata": {
        "id": "GS4YmsZlKon6"
      },
      "execution_count": null,
      "outputs": []
    },
    {
      "cell_type": "code",
      "source": [
        "# Make predictions on the test set\n",
        "predictions = model.transform(testData)"
      ],
      "metadata": {
        "id": "vpUUUayzKrqh"
      },
      "execution_count": null,
      "outputs": []
    },
    {
      "cell_type": "code",
      "source": [
        "evaluator = BinaryClassificationEvaluator(labelCol=\"HeartDisease\")\n",
        "accuracy = evaluator.evaluate(predictions, {evaluator.metricName: \"areaUnderROC\"})\n",
        "print(f\"Area under ROC curve: {accuracy}\")"
      ],
      "metadata": {
        "colab": {
          "base_uri": "https://localhost:8080/"
        },
        "id": "bgGyhITrKvhR",
        "outputId": "3b514b6d-8312-4e81-fb4b-b58dfbf192bc"
      },
      "execution_count": null,
      "outputs": [
        {
          "output_type": "stream",
          "name": "stdout",
          "text": [
            "Area under ROC curve: 0.9204912734324499\n"
          ]
        }
      ]
    },
    {
      "cell_type": "markdown",
      "source": [
        "## K-Means Clustering"
      ],
      "metadata": {
        "id": "DNiR8XhpbuEo"
      }
    },
    {
      "cell_type": "code",
      "source": [
        "kmeans = KMeans(k=2, seed=42, featuresCol='features', predictionCol='kmeans_prediction')\n",
        "kmeans_model = kmeans.fit(trainingData)\n",
        "kmeans_predictions = kmeans_model.transform(trainingData)"
      ],
      "metadata": {
        "id": "UFBj-hQ-b3w5"
      },
      "execution_count": null,
      "outputs": []
    },
    {
      "cell_type": "markdown",
      "source": [
        "## Linear Regression"
      ],
      "metadata": {
        "id": "3XLT2TQZitid"
      }
    },
    {
      "cell_type": "code",
      "source": [
        "lr_reg = LinearRegression(labelCol='HeartDisease', featuresCol='features')\n",
        "lr_model_reg = lr_reg.fit(trainingData)\n",
        "lr_predictions_reg = lr_model_reg.transform(testData)"
      ],
      "metadata": {
        "id": "Bg8sbNhHi01h"
      },
      "execution_count": null,
      "outputs": []
    },
    {
      "cell_type": "markdown",
      "source": [
        "## Support Vector Classifier"
      ],
      "metadata": {
        "id": "ToMCjfYTk5Un"
      }
    },
    {
      "cell_type": "code",
      "source": [
        "svc = LinearSVC(labelCol='HeartDisease', featuresCol='features')\n",
        "svc_model = svc.fit(trainingData)\n",
        "svc_predictions = svc_model.transform(testData)\n"
      ],
      "metadata": {
        "id": "VOV4ITvik-0r"
      },
      "execution_count": null,
      "outputs": []
    },
    {
      "cell_type": "markdown",
      "source": [
        "## Decision Tree Classification"
      ],
      "metadata": {
        "id": "pqzx26DXnXbW"
      }
    },
    {
      "cell_type": "code",
      "source": [
        "dt = DecisionTreeClassifier(labelCol='HeartDisease', featuresCol='features')\n",
        "dt_model = dt.fit(trainingData)\n",
        "dt_predictions = dt_model.transform(testData)"
      ],
      "metadata": {
        "id": "gnqT2miwniBZ"
      },
      "execution_count": null,
      "outputs": []
    },
    {
      "cell_type": "markdown",
      "source": [
        "## Gradient Boosting"
      ],
      "metadata": {
        "id": "YTGedZl6nteJ"
      }
    },
    {
      "cell_type": "code",
      "source": [
        "gbt_reg = GBTRegressor(labelCol='HeartDisease', featuresCol='features')\n",
        "gbt_model_reg = gbt_reg.fit(trainingData)\n",
        "gbt_predictions_reg = gbt_model_reg.transform(testData)"
      ],
      "metadata": {
        "id": "aI4gp6FZnzFz"
      },
      "execution_count": null,
      "outputs": []
    },
    {
      "cell_type": "markdown",
      "source": [
        "## Logistic Regression"
      ],
      "metadata": {
        "id": "8EndY6PDo1J5"
      }
    },
    {
      "cell_type": "code",
      "source": [
        "lr_classifier = LogisticRegression(labelCol='HeartDisease', featuresCol='features')\n",
        "lr_model_classifier = lr_classifier.fit(trainingData)\n",
        "lr_predictions_classifier = lr_model_classifier.transform(testData)\n"
      ],
      "metadata": {
        "id": "rJ2LfLENo5ci"
      },
      "execution_count": null,
      "outputs": []
    },
    {
      "cell_type": "markdown",
      "source": [
        "## Principal Component Analysis (PCA)"
      ],
      "metadata": {
        "id": "mmi54PAhpEMz"
      }
    },
    {
      "cell_type": "code",
      "source": [
        "pca = PCA(k=5, inputCol='features', outputCol='pca_features')\n",
        "pca_model = pca.fit(trainingData)\n",
        "data_pca = pca_model.transform(testData)"
      ],
      "metadata": {
        "id": "JKAbK0G1pJN2"
      },
      "execution_count": null,
      "outputs": []
    },
    {
      "cell_type": "markdown",
      "source": [
        "## Isotonic Regression"
      ],
      "metadata": {
        "id": "iKo0V0CLtQxU"
      }
    },
    {
      "cell_type": "code",
      "source": [
        "iso_reg = IsotonicRegression(labelCol='HeartDisease', featuresCol='features')\n",
        "iso_model = iso_reg.fit(trainingData)\n",
        "iso_predictions = iso_model.transform(testData)"
      ],
      "metadata": {
        "id": "ZPD2GNnMwFMT"
      },
      "execution_count": null,
      "outputs": []
    },
    {
      "cell_type": "code",
      "source": [
        "from pyspark.ml.evaluation import RegressionEvaluator\n",
        "\n",
        "# Assuming 'labelCol' is the actual label column in your data\n",
        "iso_evaluator = RegressionEvaluator(labelCol='HeartDisease', metricName='mse')\n",
        "iso_mse = iso_evaluator.evaluate(iso_predictions)"
      ],
      "metadata": {
        "id": "b0chBAkWv8fe"
      },
      "execution_count": null,
      "outputs": []
    },
    {
      "cell_type": "markdown",
      "source": [
        "## Model evaluation for regression models"
      ],
      "metadata": {
        "id": "jWQ_oouqtliP"
      }
    },
    {
      "cell_type": "code",
      "source": [
        "evaluator_reg = RegressionEvaluator(labelCol='HeartDisease', metricName='rmse')\n",
        "\n",
        "lr_rmse = evaluator_reg.evaluate(lr_predictions_reg)\n",
        "gbt_rmse = evaluator_reg.evaluate(gbt_predictions_reg)"
      ],
      "metadata": {
        "id": "L8NViFvitrYQ"
      },
      "execution_count": null,
      "outputs": []
    },
    {
      "cell_type": "markdown",
      "source": [
        "## Visualize the results"
      ],
      "metadata": {
        "id": "CbYW1Nkyt2b5"
      }
    },
    {
      "cell_type": "code",
      "source": [
        "algorithm_names_reg = ['Linear Regression',  'Gradient Boosting']\n",
        "rmse_scores = [lr_rmse, gbt_rmse]\n",
        "\n",
        "plt.figure(figsize=(10, 6))\n",
        "sns.barplot(x=algorithm_names_reg, y=rmse_scores)\n",
        "plt.title('RMSE Scores of Regression Algorithms')\n",
        "plt.xlabel('Algorithm')\n",
        "plt.ylabel('RMSE Score')\n",
        "plt.show()"
      ],
      "metadata": {
        "colab": {
          "base_uri": "https://localhost:8080/",
          "height": 564
        },
        "id": "z6oQ80_it7Zq",
        "outputId": "54d8528c-4c4e-4bb3-82ea-c0dcdaa01867"
      },
      "execution_count": null,
      "outputs": [
        {
          "output_type": "display_data",
          "data": {
            "text/plain": [
              "<Figure size 1000x600 with 1 Axes>"
            ],
            "image/png": "[encoded data removed]"
          },
          "metadata": {}
        }
      ]
    },
    {
      "cell_type": "markdown",
      "source": [
        "## Model evaluation for classification models"
      ],
      "metadata": {
        "id": "UtR3Bq2huLTe"
      }
    },
    {
      "cell_type": "code",
      "source": [
        "evaluator_classifier = BinaryClassificationEvaluator(labelCol='HeartDisease')\n",
        "\n",
        "svc_auc = evaluator_classifier.evaluate(svc_predictions)\n",
        "dt_auc = evaluator_classifier.evaluate(dt_predictions)\n",
        "lr_auc_classifier = evaluator_classifier.evaluate(lr_predictions_classifier)\n",
        "iso_mse = iso_evaluator.evaluate(iso_predictions)"
      ],
      "metadata": {
        "id": "P40MfQnZuXYR"
      },
      "execution_count": null,
      "outputs": []
    },
    {
      "cell_type": "markdown",
      "source": [
        "## Visualize the results"
      ],
      "metadata": {
        "id": "HiKjIHJawkQ9"
      }
    },
    {
      "cell_type": "code",
      "source": [
        "algorithm_names_classifier = [ 'Support Vector Classifier', 'Decision Tree', 'Logistic Regression','Isotonic Regression']\n",
        "auc_scores_classifier = [ svc_auc, dt_auc, lr_auc_classifier, iso_mse]\n",
        "\n",
        "plt.figure(figsize=(12, 8))\n",
        "sns.barplot(x=algorithm_names_classifier, y=auc_scores_classifier)\n",
        "plt.title('AUC Scores of Classification Algorithms')\n",
        "plt.xlabel('Algorithm')\n",
        "plt.ylabel('AUC Score')\n",
        "plt.show()"
      ],
      "metadata": {
        "colab": {
          "base_uri": "https://localhost:8080/",
          "height": 697
        },
        "id": "ovqJRMhewqnK",
        "outputId": "83353d1b-7a1b-4426-cb72-b15a013e3383"
      },
      "execution_count": null,
      "outputs": [
        {
          "output_type": "display_data",
          "data": {
            "text/plain": [
              "<Figure size 1200x800 with 1 Axes>"
            ],
            "image/png": "[encoded data removed]"
          },
          "metadata": {}
        }
      ]
    },
    {
      "cell_type": "markdown",
      "source": [
        "## Visualization Results"
      ],
      "metadata": {
        "id": "WIRdzuaIZHQV"
      }
    },
    {
      "cell_type": "code",
      "source": [
        "# Visualize feature importances\n",
        "feature_importances = model.featureImportances.toArray()\n",
        "feature_names = feature_columns\n",
        "y_pos = range(len(feature_names))\n",
        "\n",
        "plt.barh(y_pos, feature_importances, align='center')\n",
        "plt.yticks(y_pos, feature_names)\n",
        "plt.xlabel('Importance')\n",
        "plt.title('Feature Importances')\n",
        "plt.show()"
      ],
      "metadata": {
        "colab": {
          "base_uri": "https://localhost:8080/",
          "height": 472
        },
        "id": "WmgIQQqUK--X",
        "outputId": "18a622e1-7099-4d53-be54-94d76013b526"
      },
      "execution_count": null,
      "outputs": [
        {
          "output_type": "display_data",
          "data": {
            "text/plain": [
              "<Figure size 640x480 with 1 Axes>"
            ],
            "image/png": "[encoded data removed]"
          },
          "metadata": {}
        }
      ]
    },
    {
      "cell_type": "code",
      "source": [
        "# Stop the Spark session\n",
        "spark.stop()"
      ],
      "metadata": {
        "id": "mTbCriElLHKN"
      },
      "execution_count": null,
      "outputs": []
    }
  ]
}